{
 "cells": [
  {
   "cell_type": "markdown",
   "id": "c3fad11f",
   "metadata": {},
   "source": [
    "RANDOM PASSWORD GENERATOR"
   ]
  },
  {
   "cell_type": "code",
   "execution_count": 4,
   "id": "f26d5557",
   "metadata": {},
   "outputs": [
    {
     "name": "stdout",
     "output_type": "stream",
     "text": [
      "4mRTKLXk\n"
     ]
    }
   ],
   "source": [
    "import string\n",
    "import random\n",
    "\n",
    "characters = list(string.ascii_letters + string.digits + \"!@#$%^&*()\")\n",
    "\n",
    "def generate_random_password():\n",
    "\tlength = int(input(\"Enter password length: \"))\n",
    "\trandom.shuffle(characters)\n",
    "\tpassword = []\n",
    "\tfor i in range(length):\n",
    "\t\tpassword.append(random.choice(characters))\n",
    "\trandom.shuffle(password)\n",
    "\tprint(\"\".join(password))\n",
    "\n",
    "generate_random_password()"
   ]
  },
  {
   "cell_type": "code",
   "execution_count": 2,
   "id": "707374ee",
   "metadata": {},
   "outputs": [],
   "source": [
    "from tkinter import *\n",
    "import random\n",
    "import string\n",
    "import pyperclip\n",
    "\n",
    "\n",
    "\n",
    "###screen par graphical interface banane ke liye\n",
    "root =Tk()\n",
    "root.geometry(\"500x500\")\n",
    "root.resizable(0,0)\n",
    "root.title(\"CP PROJECT - PASSWORD GENERATOR\")\n",
    "\n",
    "#heading ka naam likne ke liya by using label function\n",
    "heading = Label(root, text = 'PASSWORD GENERATOR' , font =('Times',20,'bold')).pack(padx=10 , pady=10)\n",
    "Label(root, text ='CP PROJECT', font =('Times',20,'bold')).pack(side = BOTTOM)\n",
    "# password length \n",
    "pass_label = Label(root, text = 'PASSWORD LENGTH', font = 'arial 10 bold').pack(padx=10 , pady=10)\n",
    "pass_len = IntVar()\n",
    "length = Spinbox(root, from_ = 6, to_ = 32 , textvariable = pass_len , width = 30).pack(padx=5,ipady=4)\n",
    "\n",
    "#####apna random password generator function function\n",
    "\n",
    "pass_str = StringVar()\n",
    "def Generator():\n",
    "    password = ''\n",
    "    for x in range(pass_len.get()):\n",
    "        password = password+random.choice(string.ascii_uppercase + string.ascii_lowercase + string.digits + string.punctuation)\n",
    "    pass_str.set(password)\n",
    "   \n",
    "#button ke name and size ke liye \n",
    "\n",
    "Button(root, text = \"GENERATE PASSWORD\" , command = Generator ).pack(pady= 8)\n",
    "\n",
    "Entry(root , textvariable = pass_str).pack(ipadx=30,ipady=4)\n",
    "\n",
    "########function to copy and used pyperclip copy to clipboard use karne ke liye\n",
    "\n",
    "def Copy_password():\n",
    "    pyperclip.copy(pass_str.get())\n",
    "\n",
    "Button(root, text = 'COPY TO CLIPBOARD', command = Copy_password).pack(padx=8,pady=8)\n",
    "\n",
    "# tkinker screen ko hold karne ke liya\n",
    "root.mainloop()"
   ]
  },
  {
   "cell_type": "markdown",
   "id": "ba5f722a",
   "metadata": {},
   "source": [
    "TARUN\n"
   ]
  },
  {
   "cell_type": "code",
   "execution_count": null,
   "id": "6fd069b1",
   "metadata": {},
   "outputs": [],
   "source": []
  },
  {
   "cell_type": "code",
   "execution_count": null,
   "id": "aa30c435",
   "metadata": {},
   "outputs": [],
   "source": []
  },
  {
   "cell_type": "code",
   "execution_count": null,
   "id": "9f485041",
   "metadata": {},
   "outputs": [],
   "source": []
  },
  {
   "cell_type": "code",
   "execution_count": null,
   "id": "c099ef17",
   "metadata": {},
   "outputs": [],
   "source": []
  },
  {
   "cell_type": "code",
   "execution_count": null,
   "id": "cf70f8c5",
   "metadata": {},
   "outputs": [],
   "source": []
  }
 ],
 "metadata": {
  "kernelspec": {
   "display_name": "Python 3 (ipykernel)",
   "language": "python",
   "name": "python3"
  },
  "language_info": {
   "codemirror_mode": {
    "name": "ipython",
    "version": 3
   },
   "file_extension": ".py",
   "mimetype": "text/x-python",
   "name": "python",
   "nbconvert_exporter": "python",
   "pygments_lexer": "ipython3",
   "version": "3.10.5"
  },
  "vscode": {
   "interpreter": {
    "hash": "8831fef4892bf96e6d13c9ddc5ee4273910b298099b1cbdd26dedb68e9e22eee"
   }
  }
 },
 "nbformat": 4,
 "nbformat_minor": 5
}
